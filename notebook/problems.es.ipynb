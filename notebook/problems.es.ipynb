{
 "cells": [
  {
   "cell_type": "markdown",
   "id": "d9d036c6",
   "metadata": {},
   "source": [
    "# Problemas de prueba de hipótesis"
   ]
  },
  {
   "cell_type": "markdown",
   "id": "d157c4db",
   "metadata": {},
   "source": [
    "## Ejercicio 1\n",
    "\n",
    "Usted es un nutricionista que investiga dos tipos diferentes de dietas para ver si existe una diferencia significativa en la pérdida de peso después de un mes. Eliges dos grupos aleatorios de personas; un grupo sigue la primera dieta y el otro sigue la segunda. Al final del mes, se registra la pérdida de peso (en kg) de cada persona:\n",
    "\n",
    "| Diet 1 | Diet 2 |\n",
    "|:-------|:-------|\n",
    "| 2.0 | 3.0 |\n",
    "| 2.5 | 3.2 |\n",
    "| 3.0 | 3.1 |\n",
    "| 2.8 | 2.9 |\n",
    "| 2.3 | 2.8 |\n",
    "| 2.7 | 3.0 |\n",
    "| 2.5 | 3.2 |\n",
    "\n",
    "Con estos datos se busca responder a la siguiente pregunta: ¿Existe una diferencia significativa en la pérdida de peso promedio entre las personas que siguieron la primera dieta y las que siguieron la segunda dieta?\n",
    "\n",
    "Para sacar conclusiones, siga los siguientes puntos:\n",
    "\n",
    "-Enunciar la hipótesis: hipótesis nula y alternativa.\n",
    "-Realizar la prueba para comprobar la hipótesis. Puede utilizar la prueba t de Student.\n",
    "-Analizar las conclusiones."
   ]
  },
  {
   "cell_type": "markdown",
   "id": "1fc310ae",
   "metadata": {},
   "source": [
    "# HIPOTESIS:\n",
    "\n",
    "- **HIPOTESIS NULA** ($H₀$): No existe una diferencia significativa en la pérdida de peso promedio entre las dos dietas.\n",
    "- **HIPOTESIS ALTERNARIVA** ($H₁$): existe una diferencia significativa en la pérdida de peso promedio entre las dos dietas."
   ]
  },
  {
   "cell_type": "code",
   "execution_count": 7,
   "id": "8e0f3cf0",
   "metadata": {},
   "outputs": [
    {
     "name": "stdout",
     "output_type": "stream",
     "text": [
      "La probabilidad p=0.0041 es menor que el valor de significancia, lo que significa que hay suficiente evidencia para rechazar la hipótesis nula y concluir que existe una diferencia significativa entre las medias.\n"
     ]
    }
   ],
   "source": [
    "# TODO\n",
    "\n",
    "import numpy as np\n",
    "import scipy.stats as stats\n",
    "import matplotlib.pyplot as plt\n",
    "\n",
    "diet1= np.array([2.0, 2.5, 3.0, 2.8, 2.3, 2.7, 2.5])\n",
    "diet2= np.array([3.0, 3.2, 3.1, 2.9, 2.8, 3.0, 3.2])\n",
    "alpha= int(0.05)\n",
    "statistic , pvalue= stats.ttest_ind(diet1, diet2)\n",
    "\n",
    "if alpha < pvalue:\n",
    "    print (f'La probabilidad p={pvalue:.4f} es menor que el valor de significancia, lo que significa que hay suficiente evidencia para rechazar la hipótesis nula y concluir que existe una diferencia significativa entre las medias.')\n",
    "else:\n",
    "    print (f'La probabilidad p={pvalue:.4f} es mayor o igual que el valor de significancia, lo que significa que hay suficiente evidencia para aceptar la hipótesis nula y concluir que no existe una diferencia significativa entre las medias.')\n",
    "\n",
    "\n",
    "\n",
    "\n",
    "\n"
   ]
  },
  {
   "cell_type": "markdown",
   "id": "f432e18e",
   "metadata": {},
   "source": [
    "## ANOVA\n",
    "\n",
    "**ANOVA** (*Analysis of Variance - Análisis de variación*) Es una técnica estadística utilizada para comparar las medidas de dos o más grupos. La idea detrás de ANOVA es descomponer la variabilidad total de los datos en dos componentes: variabilidad entre grupos y variabilidad dentro de los grupos:\n",
    "\n",
    "- **Variabilidad entre grupos**: Esta variabilidad se refiere a las diferencias entre las medias del grupo. Si esta variabilidad es considerablemente mayor que la variabilidad dentro del grupo, podría ser una indicación de que al menos una de las medias del grupo es diferente.\n",
    "- **Variabilidad dentro del grupo**: Esta variabilidad se refiere a la dispersión de los datos dentro de cada grupo. Si todos los grupos tienen una variabilidad similar, entonces cualquier diferencia notable en las medias de los grupos podría considerarse significativa.\n",
    "\n",
    "Las hipótesis en ANOVA suelen incluir:\n",
    "\n",
    "- **Hipótesis nula** ($H₀$): Las medias de todos los grupos son iguales.\n",
    "- **Hipótesis alternativa** ($H₁$): Al menos una de las medias del grupo es diferente.\n",
    "\n",
    "Si el resultado de la prueba ANOVA es significativo (por ejemplo, un valor p inferior a un umbral como 0,05), esto sugiere que al menos la media de un grupo es diferente."
   ]
  },
  {
   "cell_type": "markdown",
   "id": "fc5f3721",
   "metadata": {},
   "source": [
    "## Ejercicio 2\n",
    "\n",
    "Un agricultor decide probar tres tipos diferentes de fertilizantes para determinar si alguno es superior en términos de producción de maíz. El agricultor planta maíz en 15 parcelas idénticas y utiliza los tres fertilizantes (5 parcelas para cada tipo). Al final de la temporada mide el rendimiento de maíz (en kg) de cada parcela, con el siguiente resultado:\n",
    "\n",
    "| Fertilizante 1 | Fertilizante 2 | Fertilizante 3 |\n",
    "|:-------------|:-------------|:-------------|\n",
    "| 20 | 22 | 24 |\n",
    "| 21 | 21 | 23 |\n",
    "| 20 | 23 | 22 |\n",
    "| 19 | 22 | 23 |\n",
    "| 20 | 21 | 24 |\n",
    "\n",
    "Con estos datos busca responder la siguiente pregunta: ¿Existe una diferencia significativa en el rendimiento promedio del maíz entre los tres tipos de fertilizantes?\n",
    "\n",
    "Para ayudarte, sigue los siguientes puntos:\n",
    "\n",
    "-Enunciar la hipótesis: hipótesis nula y alternativa.\n",
    "-Realizar la prueba ANOVA.\n",
    "-Analizar las conclusiones.\n",
    "-Si un fertilizante es mejor que otro, ¿cómo podemos saberlo?"
   ]
  },
  {
   "cell_type": "markdown",
   "id": "3847ba0c",
   "metadata": {},
   "source": [
    "# HIPOTESIS:\n",
    "\n",
    "- **HIPOTESIS NULA** ($H₀$):  No hay diferencias entre las medias de los diferentes fertilizantes\n",
    "- **HIPOTESIS ALTERNARIVA** ($H₁$):  Al menos un par de medias son significativamente distintas la una de la otra."
   ]
  },
  {
   "cell_type": "code",
   "execution_count": 10,
   "id": "eecad0ca",
   "metadata": {},
   "outputs": [
    {
     "name": "stdout",
     "output_type": "stream",
     "text": [
      "     Fertilizante  Cantidad\n",
      "0   Fertilizante1        20\n",
      "1   Fertilizante1        21\n",
      "2   Fertilizante1        20\n",
      "3   Fertilizante1        19\n",
      "4   Fertilizante1        20\n",
      "5   Fertilizante2        22\n",
      "6   Fertilizante2        21\n",
      "7   Fertilizante2        23\n",
      "8   Fertilizante2        22\n",
      "9   Fertilizante2        21\n",
      "10  Fertilizante3        24\n",
      "11  Fertilizante3        23\n",
      "12  Fertilizante3        22\n",
      "13  Fertilizante3        23\n",
      "14  Fertilizante3        24\n"
     ]
    }
   ],
   "source": [
    "import scipy.stats as stats\n",
    "import pandas as pd\n",
    "import numpy as np\n",
    "import matplotlib.pyplot as plt\n",
    "import seaborn as sns\n",
    "import pingouin as pg\n",
    "from statsmodels.graphics.factorplots import interaction_plot\n",
    "\n",
    "\n",
    "fertilizante1 = [20, 21, 20, 19, 20]\n",
    "fertilizante2 = [22, 21, 23, 22, 21]\n",
    "fertilizante3 = [24, 23, 22, 23, 24]\n",
    "data = {\n",
    "    \"Fertilizante\": [\"Fertilizante1\"] * len(fertilizante1) +\n",
    "                     [\"Fertilizante2\"] * len(fertilizante2) +\n",
    "                     [\"Fertilizante3\"] * len(fertilizante3),\n",
    "    \"Cantidad\": fertilizante1 + fertilizante2 + fertilizante3\n",
    "}\n",
    "\n",
    "datos = pd.DataFrame(data)\n",
    "print(datos)"
   ]
  },
  {
   "cell_type": "code",
   "execution_count": 11,
   "id": "2a8fa3df",
   "metadata": {},
   "outputs": [
    {
     "data": {
      "text/html": [
       "<div>\n",
       "<style scoped>\n",
       "    .dataframe tbody tr th:only-of-type {\n",
       "        vertical-align: middle;\n",
       "    }\n",
       "\n",
       "    .dataframe tbody tr th {\n",
       "        vertical-align: top;\n",
       "    }\n",
       "\n",
       "    .dataframe thead th {\n",
       "        text-align: right;\n",
       "    }\n",
       "</style>\n",
       "<table border=\"1\" class=\"dataframe\">\n",
       "  <thead>\n",
       "    <tr style=\"text-align: right;\">\n",
       "      <th></th>\n",
       "      <th>Source</th>\n",
       "      <th>SS</th>\n",
       "      <th>DF</th>\n",
       "      <th>MS</th>\n",
       "      <th>F</th>\n",
       "      <th>p-unc</th>\n",
       "      <th>np2</th>\n",
       "    </tr>\n",
       "  </thead>\n",
       "  <tbody>\n",
       "    <tr>\n",
       "      <th>0</th>\n",
       "      <td>Fertilizante</td>\n",
       "      <td>25.733333</td>\n",
       "      <td>2</td>\n",
       "      <td>12.866667</td>\n",
       "      <td>20.315789</td>\n",
       "      <td>0.00014</td>\n",
       "      <td>0.772</td>\n",
       "    </tr>\n",
       "    <tr>\n",
       "      <th>1</th>\n",
       "      <td>Within</td>\n",
       "      <td>7.600000</td>\n",
       "      <td>12</td>\n",
       "      <td>0.633333</td>\n",
       "      <td>NaN</td>\n",
       "      <td>NaN</td>\n",
       "      <td>NaN</td>\n",
       "    </tr>\n",
       "  </tbody>\n",
       "</table>\n",
       "</div>"
      ],
      "text/plain": [
       "         Source         SS  DF         MS          F    p-unc    np2\n",
       "0  Fertilizante  25.733333   2  12.866667  20.315789  0.00014  0.772\n",
       "1        Within   7.600000  12   0.633333        NaN      NaN    NaN"
      ]
     },
     "execution_count": 11,
     "metadata": {},
     "output_type": "execute_result"
    }
   ],
   "source": [
    "pg.anova(data=datos, dv='Cantidad', between='Fertilizante', detailed=True)\n"
   ]
  },
  {
   "cell_type": "markdown",
   "id": "d566cda3",
   "metadata": {},
   "source": [
    "Conclusión: \n",
    "\n",
    " p-valor= 0.00014, este es mucho menor que el valor de significancia, lo que sugiere que se puede rechazar la hipotesis nula debido a la diferencia estadisticamente significativa entre fertilizantes."
   ]
  },
  {
   "cell_type": "code",
   "execution_count": 14,
   "id": "7ed31a91",
   "metadata": {},
   "outputs": [
    {
     "name": "stdout",
     "output_type": "stream",
     "text": [
      "      Multiple Comparison of Means - Tukey HSD, FWER=0.05       \n",
      "================================================================\n",
      "    group1        group2    meandiff p-adj  lower  upper  reject\n",
      "----------------------------------------------------------------\n",
      "Fertilizante1 Fertilizante2      1.8 0.0099 0.4572 3.1428   True\n",
      "Fertilizante1 Fertilizante3      3.2 0.0001 1.8572 4.5428   True\n",
      "Fertilizante2 Fertilizante3      1.4 0.0409 0.0572 2.7428   True\n",
      "----------------------------------------------------------------\n"
     ]
    }
   ],
   "source": [
    "#Cuál es el mejor fertilizante? \n",
    "import statsmodels.stats.multicomp as mc\n",
    "# perform Tukey's test\n",
    "tukey = mc.pairwise_tukeyhsd(endog=datos['Cantidad'],\n",
    "                          groups=datos['Fertilizante'],\n",
    "                          alpha=0.05)\n",
    "\n",
    "print(tukey)"
   ]
  },
  {
   "cell_type": "code",
   "execution_count": 16,
   "id": "edecf582",
   "metadata": {},
   "outputs": [
    {
     "data": {
      "image/png": "[encoded data removed]",
      "text/plain": [
       "<Figure size 640x480 with 1 Axes>"
      ]
     },
     "metadata": {},
     "output_type": "display_data"
    }
   ],
   "source": [
    "import matplotlib.pyplot as plt\n",
    "fig, ax = plt.subplots(1, 1)\n",
    "ax.boxplot([fertilizante1, fertilizante2, fertilizante3])\n",
    "ax.set_xticklabels([\"F1\", \"F2\", \"F3\"]) \n",
    "ax.set_ylabel(\"mean\") \n",
    "plt.show()"
   ]
  },
  {
   "cell_type": "markdown",
   "id": "434adbe2",
   "metadata": {},
   "source": [
    "Hay diferencias significativas entre todos los fertilizantes, ya que todos son superiores a 0,05; El fertilizante 3 tiene mayor cantidad promedio producida de aprox 23kilos por parcela, comparado con los demás fertilizantes, donde supera en promedio en 3.2 al fertilizante1  y en 1.4 al fertilizante2 "
   ]
  }
 ],
 "metadata": {
  "kernelspec": {
   "display_name": "Python 3",
   "language": "python",
   "name": "python3"
  },
  "language_info": {
   "codemirror_mode": {
    "name": "ipython",
    "version": 3
   },
   "file_extension": ".py",
   "mimetype": "text/x-python",
   "name": "python",
   "nbconvert_exporter": "python",
   "pygments_lexer": "ipython3",
   "version": "3.11.4"
  }
 },
 "nbformat": 4,
 "nbformat_minor": 5
}
